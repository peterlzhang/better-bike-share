{
 "cells": [
  {
   "cell_type": "code",
   "execution_count": 1,
   "metadata": {},
   "outputs": [],
   "source": [
    "## output bikeshare density for what area could support\n",
    "## output bikeability based on strava data to decide if area is a good idea\n",
    "## Assumes that bike shares are optimally placed and near optimal capacity\n",
    "## use regularization in the training of the ML model\n",
    "\n",
    "import pandas as pd\n",
    "import geopandas as gpd\n",
    "import osmnx as ox\n",
    "import folium\n",
    "import matplotlib.pyplot as plt\n",
    "import seaborn as sns\n",
    "import numpy as np\n",
    "from shapely.geometry import Point, Polygon, MultiPolygon\n",
    "from shapely.ops import nearest_points\n",
    "\n",
    "from sklearn.model_selection import train_test_split \n",
    "from sklearn import metrics\n",
    "from sklearn.linear_model import LinearRegression\n",
    "from sklearn.tree import DecisionTreeRegressor\n",
    "from sklearn.ensemble import RandomForestRegressor"
   ]
  },
  {
   "cell_type": "code",
   "execution_count": 2,
   "metadata": {},
   "outputs": [],
   "source": [
    "# Workaround to fix chrome issue where folium won't plot maps with a large number of layers\n",
    "# See comment by dstein64 at: https://github.com/python-visualization/folium/issues/812\n",
    "\n",
    "import base64\n",
    "def _repr_html_(self, **kwargs):\n",
    "    html = base64.b64encode(self.render(**kwargs).encode('utf8')).decode('utf8')\n",
    "    onload = (\n",
    "        'this.contentDocument.open();'\n",
    "        'this.contentDocument.write(atob(this.getAttribute(\\'data-html\\')));'\n",
    "        'this.contentDocument.close();'\n",
    "    )\n",
    "    if self.height is None:\n",
    "        iframe = (\n",
    "            '<div style=\"width:{width};\">'\n",
    "            '<div style=\"position:relative;width:100%;height:0;padding-bottom:{ratio};\">'\n",
    "            '<iframe src=\"about:blank\" style=\"position:absolute;width:100%;height:100%;left:0;top:0;'\n",
    "            'border:none !important;\" '\n",
    "            'data-html={html} onload=\"{onload}\" '\n",
    "            'allowfullscreen webkitallowfullscreen mozallowfullscreen>'\n",
    "            '</iframe>'\n",
    "            '</div></div>').format\n",
    "        iframe = iframe(html=html, onload=onload, width=self.width, ratio=self.ratio)\n",
    "    else:\n",
    "        iframe = ('<iframe src=\"about:blank\" width=\"{width}\" height=\"{height}\"'\n",
    "                  'style=\"border:none !important;\" '\n",
    "                  'data-html={html} onload=\"{onload}\" '\n",
    "                  '\"allowfullscreen\" \"webkitallowfullscreen\" \"mozallowfullscreen\">'\n",
    "                  '</iframe>').format\n",
    "        iframe = iframe(html=html, onload=onload, width=self.width, height=self.height)\n",
    "    return iframe\n",
    "\n",
    "folium.branca.element.Figure._repr_html_ = _repr_html_\n"
   ]
  },
  {
   "cell_type": "code",
   "execution_count": null,
   "metadata": {},
   "outputs": [],
   "source": []
  },
  {
   "cell_type": "code",
   "execution_count": 8,
   "metadata": {},
   "outputs": [],
   "source": [
    "folder_name = 'OSM_geo_data/'\n",
    "city_names = ['austin','berkeley','boston','chicago','denver','glasgow','los_angeles',\n",
    "              'minneapolis','montreal','new_york','san_francisco']\n",
    "# place = 'Glasgow City, Scotland, UK'\n",
    "place = 'Chicago, Illinois, USA'\n",
    "\n",
    "\n",
    "# filename_grid = folder_name + city_name + '_grid.geojson'\n",
    "# filename_amenities = folder_name + city_name + '_amenities.geojson'\n",
    "# filename_bike_rentals = folder_name + city_name + '_bike_rentals.geojson'\n",
    "\n",
    "df = pd.DataFrame()\n",
    "\n",
    "for name in city_names:\n",
    "    filename_cleaned_df = folder_name + name + '_feature_target_table.geojson'\n",
    "    if df.empty:\n",
    "        df = gpd.read_file(filename_cleaned_df)\n",
    "    else:\n",
    "        df = df.append(gpd.read_file(filename_cleaned_df), ignore_index=True)\n",
    "\n",
    "\n",
    "# city_grid = gpd.read_file(filename_grid)\n",
    "# all_amenities = gpd.read_file(filename_amenities)\n",
    "# bike_rentals = gpd.read_file(filename_bike_rentals)\n",
    "\n",
    "# Generate city grid for interrogation\n",
    "# city = ox.gdf_from_place(place)\n",
    "\n"
   ]
  },
  {
   "cell_type": "code",
   "execution_count": null,
   "metadata": {},
   "outputs": [],
   "source": []
  },
  {
   "cell_type": "code",
   "execution_count": 14,
   "metadata": {},
   "outputs": [],
   "source": [
    "# Define feature and target labels\n",
    "features = ['pharmacy_density', 'recycling_density', 'place_of_worship_density', 'post_box_density',\n",
    "            'library_density', 'post_office_density', 'parking_density', 'fuel_density', 'bank_density',\n",
    "            'pub_density', 'telephone_density', 'toilets_density', 'taxi_density', 'bicycle_parking_density',\n",
    "            'motorcycle_parking_density', 'fast_food_density', 'bar_density', 'life_boats_density',\n",
    "            'restaurant_density', 'arts_centre_density', 'music_venue_density', 'nightclub_density',\n",
    "            'cafe_density', 'atm_density', 'community_centre_density', 'jobcentre_density', 'doctors_density',\n",
    "            'cinema_density', 'grave_yard_density', 'police_density', 'bus_station_density', 'theatre_density',\n",
    "            'bureau_de_change_density', 'hospital_density', 'bench_density', 'school_density', 'courthouse_density',\n",
    "            'ice_cream_density', 'fountain_density', 'left_luggage_density', 'drinking_water_density',\n",
    "            'casino_density', 'car_rental_density', 'car_wash_density', 'ferry_terminal_density', 'dentist_density',\n",
    "            'townhall_density', 'shelter_density', 'parking_entrance_density', 'conference_centre_density',\n",
    "            'marketplace_density', 'vending_machine_density', 'waste_basket_density', 'clock_density',\n",
    "            'studio_density', 'veterinary_density', 'gallery_density', 'gambling_density', 'kindergarten_density',\n",
    "            'social_facility_density', 'charging_station_density', 'car_sharing_density', 'clinic_density',\n",
    "            'water_density', 'compressed_air_density', 'public_building_density', 'social_centre_density',\n",
    "            'childcare_density', 'grit_bin_density', 'bicycle_repair_station_density', 'events_venue_density',\n",
    "            'embassy_density', 'college_density', 'circus_school_density', 'parcel_lockers_density',\n",
    "            'money_transfer_density', 'photo_booth_density', 'luggage_locker_density', 'university_density',\n",
    "            'venue_density', 'swimming_pool_density', 'fire_station_density', 'post_depot_density',\n",
    "            'crematorium_density', 'sport_density', 'nursing_home_density', 'biergarten_density', 'garden_density',\n",
    "            'prison_density', 'club_density', 'parking_space_density', 'trailer_park_density', 'archive_density',\n",
    "            'monastery_density']\n",
    "target = ['bike_rental_density']"
   ]
  },
  {
   "cell_type": "code",
   "execution_count": 15,
   "metadata": {},
   "outputs": [],
   "source": [
    "# Split data into train and test\n",
    "X = df[features]\n",
    "y = df[target]\n",
    "X_train, X_test, y_train, y_test = train_test_split(X, y, test_size=0.2, random_state=2)"
   ]
  },
  {
   "cell_type": "code",
   "execution_count": 16,
   "metadata": {},
   "outputs": [],
   "source": [
    "# train linear model\n",
    "bike_share_LM = LinearRegression()\n",
    "bike_share_LM.fit(X_train,y_train)\n",
    "\n",
    "y_pred = bike_share_LM.predict(X_test)\n",
    "# remove negative predictions\n",
    "y_pred[y_pred <0] = 0\n"
   ]
  },
  {
   "cell_type": "code",
   "execution_count": null,
   "metadata": {},
   "outputs": [],
   "source": []
  },
  {
   "cell_type": "code",
   "execution_count": 17,
   "metadata": {},
   "outputs": [],
   "source": [
    "comparison = y_test.copy()\n",
    "comparison['y_pred'] = y_pred\n",
    "\n",
    "\n",
    "\n",
    "diff = comparison.y_pred - comparison.bike_rental_density\n",
    "comparison['difference'] = diff\n",
    "comparison['bike_share_score'] =  y_pred / max(y_pred)\n",
    "# y_pred\n",
    "comparison\n",
    "\n",
    "# get grid index of positive bike share locations\n",
    "bike_share_pos_ind = list(comparison.index)\n"
   ]
  },
  {
   "cell_type": "code",
   "execution_count": null,
   "metadata": {},
   "outputs": [],
   "source": [
    "m = folium.Map([city.geometry.centroid.y, city.geometry.centroid.x],\n",
    "               zoom_start=11,\n",
    "               tiles=\"CartoDb dark_matter\")\n",
    "\n",
    "style_city = {'color':'#ebc923 ', 'fillColor': '#ebc923 ', 'weight':'1', 'fillOpacity' : 0.1}\n",
    "folium.GeoJson(city, style_function=lambda x: style_city).add_to(m)\n",
    "\n",
    "# plot grid points\n",
    "# locs = zip(city_grid['geometry'].centroid.y, city_grid['geometry'].centroid.x)\n",
    "# for location in locs:\n",
    "#     folium.CircleMarker(location=location, \n",
    "#         color = \"white\",   radius=1).add_to(m)\n",
    "\n",
    "# plot predictions of bike demand\n",
    "style_region = {'color':'#1FFD09 ', 'fillColor': '#1FFD09 ', 'weight':'1', 'fillOpacity' : 0.1}\n",
    "for ind in bike_share_pos_ind:\n",
    "    folium.Choropleth(city_grid.geometry[city_grid.index == ind], fill_color = '#1FFD09',\n",
    "                      fill_opacity = comparison.bike_share_score.loc[ind] ).add_to(m)\n",
    "    \n",
    "# plot bikable streets\n",
    "# m = folium.Map(latlon,\n",
    "#                zoom_start=15,\n",
    "#                tiles=\"CartoDb dark_matter\")\n",
    "# folium.GeoJson(streets, style_function=lambda x: style).add_to(m)\n",
    "\n",
    "# add cafes\n",
    "# locs = zip(all_amenities.geometry.y, all_amenities.geometry.x)\n",
    "# for location in locs:\n",
    "#     folium.CircleMarker(location=location, \n",
    "#         color = \"red\",   radius=1).add_to(m)\n",
    "\n",
    "# add bike rentals\n",
    "# locs = zip(bike_rentals.geometry.y, bike_rentals.geometry.x)\n",
    "# for location in locs:\n",
    "#     folium.CircleMarker(location=location, \n",
    "#         color = \"yellow\",   radius=2, fill=True).add_to(m)\n",
    "\n",
    "# m.save(\"chicago_bike_demand.html\")\n",
    "m"
   ]
  },
  {
   "cell_type": "code",
   "execution_count": null,
   "metadata": {},
   "outputs": [],
   "source": []
  },
  {
   "cell_type": "code",
   "execution_count": null,
   "metadata": {},
   "outputs": [],
   "source": []
  },
  {
   "cell_type": "code",
   "execution_count": null,
   "metadata": {},
   "outputs": [],
   "source": [
    "search_place = 'USA'\n",
    "new_bike_rentals = ox.pois_from_place(search_place, amenities=['bicycle_rental'])\n",
    "len(new_bike_rentals)"
   ]
  },
  {
   "cell_type": "code",
   "execution_count": null,
   "metadata": {},
   "outputs": [],
   "source": []
  }
 ],
 "metadata": {
  "kernelspec": {
   "display_name": "Python 3",
   "language": "python",
   "name": "python3"
  },
  "language_info": {
   "codemirror_mode": {
    "name": "ipython",
    "version": 3
   },
   "file_extension": ".py",
   "mimetype": "text/x-python",
   "name": "python",
   "nbconvert_exporter": "python",
   "pygments_lexer": "ipython3",
   "version": "3.7.4"
  }
 },
 "nbformat": 4,
 "nbformat_minor": 2
}
