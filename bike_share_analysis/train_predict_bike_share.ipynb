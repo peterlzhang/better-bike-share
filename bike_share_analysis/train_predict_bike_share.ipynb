{
 "cells": [
  {
   "cell_type": "code",
   "execution_count": 16,
   "metadata": {},
   "outputs": [],
   "source": [
    "## output bikeshare density for what area could support\n",
    "## output bikeability based on strava data to decide if area is a good idea\n",
    "## Assumes that bike shares are optimally placed and near optimal capacity\n",
    "## use regularization in the training of the ML model\n",
    "\n",
    "import pandas as pd\n",
    "import geopandas as gpd\n",
    "import osmnx as ox\n",
    "import folium\n",
    "import matplotlib.pyplot as plt\n",
    "import seaborn as sns\n",
    "import numpy as np\n",
    "from shapely.geometry import Point, Polygon, MultiPolygon\n",
    "from shapely.ops import nearest_points\n",
    "\n",
    "from sklearn.model_selection import train_test_split \n",
    "from sklearn import metrics\n",
    "from sklearn.linear_model import LinearRegression, Lasso, Ridge, ElasticNet\n",
    "from sklearn.tree import DecisionTreeRegressor\n",
    "from sklearn.ensemble import RandomForestRegressor"
   ]
  },
  {
   "cell_type": "code",
   "execution_count": 2,
   "metadata": {},
   "outputs": [],
   "source": [
    "# Workaround to fix chrome issue where folium won't plot maps with a large number of layers\n",
    "# See comment by dstein64 at: https://github.com/python-visualization/folium/issues/812\n",
    "\n",
    "import base64\n",
    "def _repr_html_(self, **kwargs):\n",
    "    html = base64.b64encode(self.render(**kwargs).encode('utf8')).decode('utf8')\n",
    "    onload = (\n",
    "        'this.contentDocument.open();'\n",
    "        'this.contentDocument.write(atob(this.getAttribute(\\'data-html\\')));'\n",
    "        'this.contentDocument.close();'\n",
    "    )\n",
    "    if self.height is None:\n",
    "        iframe = (\n",
    "            '<div style=\"width:{width};\">'\n",
    "            '<div style=\"position:relative;width:100%;height:0;padding-bottom:{ratio};\">'\n",
    "            '<iframe src=\"about:blank\" style=\"position:absolute;width:100%;height:100%;left:0;top:0;'\n",
    "            'border:none !important;\" '\n",
    "            'data-html={html} onload=\"{onload}\" '\n",
    "            'allowfullscreen webkitallowfullscreen mozallowfullscreen>'\n",
    "            '</iframe>'\n",
    "            '</div></div>').format\n",
    "        iframe = iframe(html=html, onload=onload, width=self.width, ratio=self.ratio)\n",
    "    else:\n",
    "        iframe = ('<iframe src=\"about:blank\" width=\"{width}\" height=\"{height}\"'\n",
    "                  'style=\"border:none !important;\" '\n",
    "                  'data-html={html} onload=\"{onload}\" '\n",
    "                  '\"allowfullscreen\" \"webkitallowfullscreen\" \"mozallowfullscreen\">'\n",
    "                  '</iframe>').format\n",
    "        iframe = iframe(html=html, onload=onload, width=self.width, height=self.height)\n",
    "    return iframe\n",
    "\n",
    "folium.branca.element.Figure._repr_html_ = _repr_html_\n"
   ]
  },
  {
   "cell_type": "code",
   "execution_count": null,
   "metadata": {},
   "outputs": [],
   "source": []
  },
  {
   "cell_type": "code",
   "execution_count": 4,
   "metadata": {},
   "outputs": [],
   "source": [
    "folder_name = 'OSM_geo_data/'\n",
    "city_names = ['austin','berkeley','boston','chicago','denver','glasgow','los_angeles',\n",
    "              'minneapolis','montreal','new_york','san_francisco','salt_lake_city']\n",
    "\n",
    "\n",
    "\n",
    "# filename_grid = folder_name + city_name + '_grid.geojson'\n",
    "# filename_amenities = folder_name + city_name + '_amenities.geojson'\n",
    "# filename_bike_rentals = folder_name + city_name + '_bike_rentals.geojson'\n",
    "\n",
    "# Initialize dataframe\n",
    "df = pd.DataFrame()\n",
    "city_grid = pd.DataFrame()\n",
    "\n",
    "for name in city_names:\n",
    "    filename_cleaned_df = folder_name + name + '_feature_target_table.geojson'\n",
    "    filename_grid = folder_name + name + '_grid.geojson'\n",
    "    if df.empty:\n",
    "        df = gpd.read_file(filename_cleaned_df)\n",
    "        city_grid = gpd.read_file(filename_grid)\n",
    "    else:\n",
    "        df = df.append(gpd.read_file(filename_cleaned_df), ignore_index=True)\n",
    "\n",
    "\n",
    "\n"
   ]
  },
  {
   "cell_type": "code",
   "execution_count": null,
   "metadata": {},
   "outputs": [],
   "source": []
  },
  {
   "cell_type": "code",
   "execution_count": 5,
   "metadata": {},
   "outputs": [],
   "source": [
    "# Define feature and target labels\n",
    "features = ['pharmacy_density', 'recycling_density', 'place_of_worship_density', 'post_box_density',\n",
    "            'library_density', 'post_office_density', 'parking_density', 'fuel_density', 'bank_density',\n",
    "            'pub_density', 'telephone_density', 'toilets_density', 'taxi_density', 'bicycle_parking_density',\n",
    "            'motorcycle_parking_density', 'fast_food_density', 'bar_density', 'life_boats_density',\n",
    "            'restaurant_density', 'arts_centre_density', 'music_venue_density', 'nightclub_density',\n",
    "            'cafe_density', 'atm_density', 'community_centre_density', 'jobcentre_density', 'doctors_density',\n",
    "            'cinema_density', 'grave_yard_density', 'police_density', 'bus_station_density', 'theatre_density',\n",
    "            'bureau_de_change_density', 'hospital_density', 'bench_density', 'school_density', 'courthouse_density',\n",
    "            'ice_cream_density', 'fountain_density', 'left_luggage_density', 'drinking_water_density',\n",
    "            'casino_density', 'car_rental_density', 'car_wash_density', 'ferry_terminal_density', 'dentist_density',\n",
    "            'townhall_density', 'shelter_density', 'parking_entrance_density', 'conference_centre_density',\n",
    "            'marketplace_density', 'vending_machine_density', 'waste_basket_density', 'clock_density',\n",
    "            'studio_density', 'veterinary_density', 'gallery_density', 'gambling_density', 'kindergarten_density',\n",
    "            'social_facility_density', 'charging_station_density', 'car_sharing_density', 'clinic_density',\n",
    "            'water_density', 'compressed_air_density', 'public_building_density', 'social_centre_density',\n",
    "            'childcare_density', 'grit_bin_density', 'bicycle_repair_station_density', 'events_venue_density',\n",
    "            'embassy_density', 'college_density', 'circus_school_density', 'parcel_lockers_density',\n",
    "            'money_transfer_density', 'photo_booth_density', 'luggage_locker_density', 'university_density',\n",
    "            'venue_density', 'swimming_pool_density', 'fire_station_density', 'post_depot_density',\n",
    "            'crematorium_density', 'sport_density', 'nursing_home_density', 'biergarten_density', 'garden_density',\n",
    "            'prison_density', 'club_density', 'parking_space_density', 'trailer_park_density', 'archive_density',\n",
    "            'monastery_density']\n",
    "target = ['bike_rental_density']"
   ]
  },
  {
   "cell_type": "code",
   "execution_count": 19,
   "metadata": {},
   "outputs": [
    {
     "name": "stdout",
     "output_type": "stream",
     "text": [
      "663 5530 0.11989150090415913\n",
      "Linear regression is not the best option given that the target is highly skewed towards 0\n"
     ]
    },
    {
     "data": {
      "image/png": "[encoded data removed]",
      "text/plain": [
       "<Figure size 432x288 with 1 Axes>"
      ]
     },
     "metadata": {
      "needs_background": "light"
     },
     "output_type": "display_data"
    }
   ],
   "source": [
    "# Split data into train and test\n",
    "X = df[features]\n",
    "y = df[target]\n",
    "X_train, X_test, y_train, y_test = train_test_split(X, y, test_size=0.2, random_state=1)\n",
    "\n",
    "pos_target = len(y[y.bike_rental_density != 0])\n",
    "neg_target = len(y[y.bike_rental_density == 0])\n",
    "print(pos_target,neg_target,pos_target/neg_target)\n",
    "\n",
    "sns.distplot(y.bike_rental_density);\n",
    "print('Linear regression is not the best option given that the target is highly skewed towards 0')"
   ]
  },
  {
   "cell_type": "code",
   "execution_count": 20,
   "metadata": {},
   "outputs": [
    {
     "name": "stderr",
     "output_type": "stream",
     "text": [
      "/Users/peter/opt/anaconda3/lib/python3.7/site-packages/sklearn/ensemble/forest.py:245: FutureWarning: The default value of n_estimators will change from 10 in version 0.20 to 100 in 0.22.\n",
      "  \"10 in version 0.20 to 100 in 0.22.\", FutureWarning)\n",
      "/Users/peter/opt/anaconda3/lib/python3.7/site-packages/ipykernel_launcher.py:34: DataConversionWarning: A column-vector y was passed when a 1d array was expected. Please change the shape of y to (n_samples,), for example using ravel().\n"
     ]
    }
   ],
   "source": [
    "## Linear model\n",
    "LM_model = LinearRegression()\n",
    "LM_model.fit(X_train,y_train)\n",
    "LM_y_pred = LM_model.predict(X_test)\n",
    "\n",
    "## Lasso\n",
    "lasso_rmse = []\n",
    "ridge_rmse = []\n",
    "EN_rmse = []\n",
    "alpha_ref = np.linspace(0.001,1,101)\n",
    "\n",
    "for ind, alpha in enumerate(alpha_ref):\n",
    "    \n",
    "    lasso_model = Lasso(alpha=alpha)\n",
    "    lasso_model.fit(X_train,y_train)\n",
    "    lasso_y_pred = lasso_model.predict(X_test)\n",
    "    lasso_rmse.append(metrics.mean_absolute_error(y_test,lasso_y_pred))\n",
    "    \n",
    "    \n",
    "    ridge_model = Ridge(alpha = alpha)\n",
    "    ridge_model.fit(X_train,y_train)\n",
    "    ridge_y_pred = ridge_model.predict(X_test)\n",
    "    ridge_rmse.append(metrics.mean_absolute_error(y_test,lasso_y_pred))\n",
    "    \n",
    "    EN_model = ElasticNet(alpha = alpha)\n",
    "    EN_model.fit(X_train,y_train)\n",
    "    EN_y_pred = EN_model.predict(X_test)\n",
    "    EN_rmse.append(metrics.mean_absolute_error(y_test,lasso_y_pred))\n",
    "\n",
    "\n",
    "## Random Forest\n",
    "# RF_model = RandomForestRegressor(random_state = 2,max_depth = 9,max_leaf_nodes = 67)\n",
    "RF_model = RandomForestRegressor()\n",
    "RF_model.fit(X_train,y_train)\n",
    "RF_y_pred = RF_model.predict(X_test)\n",
    "\n",
    "# remove negative predictions\n",
    "# y_pred[y_pred <0] = 0\n"
   ]
  },
  {
   "cell_type": "code",
   "execution_count": null,
   "metadata": {},
   "outputs": [],
   "source": []
  },
  {
   "cell_type": "code",
   "execution_count": 21,
   "metadata": {},
   "outputs": [
    {
     "name": "stdout",
     "output_type": "stream",
     "text": [
      "Multivariate linear regression mean absolute error (MAE): 0.200\n",
      "Lasso mean absolute error (MAE): 0.182 and alpha = 0.041\n",
      "Ridge mean absolute error (MAE): 0.182 and alpha = 0.041\n",
      "Elastic Net mean absolute error (MAE): 0.182 and alpha = 0.041\n",
      "Random forest mean absolute error (MAE): 0.150\n"
     ]
    }
   ],
   "source": [
    "## Linear regression isn't the best option given that the target is highly skewed towards 0\n",
    "\n",
    "print('Multivariate linear regression mean absolute error (MAE): %4.3f' % metrics.mean_absolute_error(y_test,LM_y_pred))\n",
    "print('Lasso mean absolute error (MAE): %4.3f and alpha = %4.3f' % (min(lasso_rmse),alpha_ref[np.argmin(lasso_rmse)]))\n",
    "print('Ridge mean absolute error (MAE): %4.3f and alpha = %4.3f' % (min(ridge_rmse),alpha_ref[np.argmin(ridge_rmse)]))\n",
    "print('Elastic Net mean absolute error (MAE): %4.3f and alpha = %4.3f' % (min(EN_rmse),alpha_ref[np.argmin(EN_rmse)]))\n",
    "\n",
    "print('Random forest mean absolute error (MAE): %4.3f' % metrics.mean_absolute_error(y_test,RF_y_pred))\n",
    "\n",
    "\n",
    "\n",
    "\n"
   ]
  },
  {
   "cell_type": "code",
   "execution_count": null,
   "metadata": {},
   "outputs": [],
   "source": []
  },
  {
   "cell_type": "code",
   "execution_count": 9,
   "metadata": {},
   "outputs": [
    {
     "data": {
      "text/html": [
       "<div>\n",
       "<style scoped>\n",
       "    .dataframe tbody tr th:only-of-type {\n",
       "        vertical-align: middle;\n",
       "    }\n",
       "\n",
       "    .dataframe tbody tr th {\n",
       "        vertical-align: top;\n",
       "    }\n",
       "\n",
       "    .dataframe thead th {\n",
       "        text-align: right;\n",
       "    }\n",
       "</style>\n",
       "<table border=\"1\" class=\"dataframe\">\n",
       "  <thead>\n",
       "    <tr style=\"text-align: right;\">\n",
       "      <th></th>\n",
       "      <th>bike_rental_density</th>\n",
       "      <th>LM_y_pred</th>\n",
       "      <th>RF_y_pred</th>\n",
       "      <th>Lasso_y_pred</th>\n",
       "    </tr>\n",
       "  </thead>\n",
       "  <tbody>\n",
       "    <tr>\n",
       "      <td>3151</td>\n",
       "      <td>0.0</td>\n",
       "      <td>0.378685</td>\n",
       "      <td>0.229760</td>\n",
       "      <td>0.459461</td>\n",
       "    </tr>\n",
       "    <tr>\n",
       "      <td>3118</td>\n",
       "      <td>0.0</td>\n",
       "      <td>0.027067</td>\n",
       "      <td>0.000000</td>\n",
       "      <td>0.161091</td>\n",
       "    </tr>\n",
       "    <tr>\n",
       "      <td>2124</td>\n",
       "      <td>0.0</td>\n",
       "      <td>0.136567</td>\n",
       "      <td>0.101934</td>\n",
       "      <td>0.112893</td>\n",
       "    </tr>\n",
       "    <tr>\n",
       "      <td>3506</td>\n",
       "      <td>0.0</td>\n",
       "      <td>0.124785</td>\n",
       "      <td>0.000000</td>\n",
       "      <td>0.088133</td>\n",
       "    </tr>\n",
       "    <tr>\n",
       "      <td>3632</td>\n",
       "      <td>0.0</td>\n",
       "      <td>0.019680</td>\n",
       "      <td>0.057108</td>\n",
       "      <td>0.088133</td>\n",
       "    </tr>\n",
       "  </tbody>\n",
       "</table>\n",
       "</div>"
      ],
      "text/plain": [
       "      bike_rental_density  LM_y_pred  RF_y_pred  Lasso_y_pred\n",
       "3151                  0.0   0.378685   0.229760      0.459461\n",
       "3118                  0.0   0.027067   0.000000      0.161091\n",
       "2124                  0.0   0.136567   0.101934      0.112893\n",
       "3506                  0.0   0.124785   0.000000      0.088133\n",
       "3632                  0.0   0.019680   0.057108      0.088133"
      ]
     },
     "execution_count": 9,
     "metadata": {},
     "output_type": "execute_result"
    }
   ],
   "source": [
    "comparison = y_test.copy()\n",
    "comparison['LM_y_pred'] = LM_y_pred\n",
    "comparison['RF_y_pred'] = RF_y_pred\n",
    "comparison['Lasso_y_pred'] = lasso_y_pred\n",
    "comparison.head()\n",
    "\n",
    "# diff = comparison.y_pred - comparison.bike_rental_density\n",
    "# comparison['difference'] = diff\n",
    "# comparison['bike_share_score'] =  y_pred / max(y_pred)\n",
    "# # y_pred\n",
    "# comparison\n",
    "\n",
    "# # get grid index of positive bike share locations\n",
    "# bike_share_pos_ind = list(comparison.index)\n",
    "\n"
   ]
  },
  {
   "cell_type": "code",
   "execution_count": null,
   "metadata": {},
   "outputs": [],
   "source": [
    "## Start validation on unseen city, \n",
    "place = 'Portland, Oregon, USA'\n",
    "\n",
    "# city_grid = gpd.read_file(filename_grid)\n",
    "# all_amenities = gpd.read_file(filename_amenities)\n",
    "# bike_rentals = gpd.read_file(filename_bike_rentals)\n",
    "\n",
    "# Generate city grid for interrogation\n",
    "city = ox.gdf_from_place(place)\n"
   ]
  },
  {
   "cell_type": "code",
   "execution_count": 10,
   "metadata": {},
   "outputs": [
    {
     "ename": "AttributeError",
     "evalue": "'DataFrame' object has no attribute 'bike_share_score'",
     "output_type": "error",
     "traceback": [
      "\u001b[0;31m---------------------------------------------------------------------------\u001b[0m",
      "\u001b[0;31mAttributeError\u001b[0m                            Traceback (most recent call last)",
      "\u001b[0;32m<ipython-input-10-5c2f734e2d17>\u001b[0m in \u001b[0;36m<module>\u001b[0;34m\u001b[0m\n\u001b[1;32m     17\u001b[0m \u001b[0;32mfor\u001b[0m \u001b[0mindex\u001b[0m\u001b[0;34m,\u001b[0m \u001b[0mrow\u001b[0m \u001b[0;32min\u001b[0m \u001b[0mcomparison\u001b[0m\u001b[0;34m.\u001b[0m\u001b[0miterrows\u001b[0m\u001b[0;34m(\u001b[0m\u001b[0;34m)\u001b[0m\u001b[0;34m:\u001b[0m\u001b[0;34m\u001b[0m\u001b[0;34m\u001b[0m\u001b[0m\n\u001b[1;32m     18\u001b[0m     folium.Choropleth(city_grid.geometry[city_grid.index == ind], fill_color = '#1FFD09',\n\u001b[0;32m---> 19\u001b[0;31m                       fill_opacity = comparison.bike_share_score.loc[ind] ).add_to(m)\n\u001b[0m\u001b[1;32m     20\u001b[0m \u001b[0;34m\u001b[0m\u001b[0m\n\u001b[1;32m     21\u001b[0m \u001b[0;31m# plot bikable streets\u001b[0m\u001b[0;34m\u001b[0m\u001b[0;34m\u001b[0m\u001b[0;34m\u001b[0m\u001b[0m\n",
      "\u001b[0;32m~/opt/anaconda3/lib/python3.7/site-packages/pandas/core/generic.py\u001b[0m in \u001b[0;36m__getattr__\u001b[0;34m(self, name)\u001b[0m\n\u001b[1;32m   5177\u001b[0m             \u001b[0;32mif\u001b[0m \u001b[0mself\u001b[0m\u001b[0;34m.\u001b[0m\u001b[0m_info_axis\u001b[0m\u001b[0;34m.\u001b[0m\u001b[0m_can_hold_identifiers_and_holds_name\u001b[0m\u001b[0;34m(\u001b[0m\u001b[0mname\u001b[0m\u001b[0;34m)\u001b[0m\u001b[0;34m:\u001b[0m\u001b[0;34m\u001b[0m\u001b[0;34m\u001b[0m\u001b[0m\n\u001b[1;32m   5178\u001b[0m                 \u001b[0;32mreturn\u001b[0m \u001b[0mself\u001b[0m\u001b[0;34m[\u001b[0m\u001b[0mname\u001b[0m\u001b[0;34m]\u001b[0m\u001b[0;34m\u001b[0m\u001b[0;34m\u001b[0m\u001b[0m\n\u001b[0;32m-> 5179\u001b[0;31m             \u001b[0;32mreturn\u001b[0m \u001b[0mobject\u001b[0m\u001b[0;34m.\u001b[0m\u001b[0m__getattribute__\u001b[0m\u001b[0;34m(\u001b[0m\u001b[0mself\u001b[0m\u001b[0;34m,\u001b[0m \u001b[0mname\u001b[0m\u001b[0;34m)\u001b[0m\u001b[0;34m\u001b[0m\u001b[0;34m\u001b[0m\u001b[0m\n\u001b[0m\u001b[1;32m   5180\u001b[0m \u001b[0;34m\u001b[0m\u001b[0m\n\u001b[1;32m   5181\u001b[0m     \u001b[0;32mdef\u001b[0m \u001b[0m__setattr__\u001b[0m\u001b[0;34m(\u001b[0m\u001b[0mself\u001b[0m\u001b[0;34m,\u001b[0m \u001b[0mname\u001b[0m\u001b[0;34m,\u001b[0m \u001b[0mvalue\u001b[0m\u001b[0;34m)\u001b[0m\u001b[0;34m:\u001b[0m\u001b[0;34m\u001b[0m\u001b[0;34m\u001b[0m\u001b[0m\n",
      "\u001b[0;31mAttributeError\u001b[0m: 'DataFrame' object has no attribute 'bike_share_score'"
     ]
    }
   ],
   "source": [
    "m = folium.Map([city.geometry.centroid.y, city.geometry.centroid.x],\n",
    "               zoom_start=11,\n",
    "               tiles=\"CartoDb dark_matter\")\n",
    "\n",
    "style_city = {'color':'#ebc923 ', 'fillColor': '#ebc923 ', 'weight':'1', 'fillOpacity' : 0.1}\n",
    "folium.GeoJson(city, style_function=lambda x: style_city).add_to(m)\n",
    "\n",
    "# plot grid points\n",
    "# locs = zip(city_grid['geometry'].centroid.y, city_grid['geometry'].centroid.x)\n",
    "# for location in locs:\n",
    "#     folium.CircleMarker(location=location, \n",
    "#         color = \"white\",   radius=1).add_to(m)\n",
    "\n",
    "# plot predictions of bike demand\n",
    "style_region = {'color':'#1FFD09 ', 'fillColor': '#1FFD09 ', 'weight':'1', 'fillOpacity' : 0.1}\n",
    "# for ind in bike_share_pos_ind:\n",
    "for index, row in comparison.iterrows():\n",
    "    folium.Choropleth(city_grid.geometry[city_grid.index == ind], fill_color = '#1FFD09',\n",
    "                      fill_opacity = comparison.bike_share_score.loc[ind] ).add_to(m)\n",
    "    \n",
    "# plot bikable streets\n",
    "# m = folium.Map(latlon,\n",
    "#                zoom_start=15,\n",
    "#                tiles=\"CartoDb dark_matter\")\n",
    "# folium.GeoJson(streets, style_function=lambda x: style).add_to(m)\n",
    "\n",
    "# add cafes\n",
    "# locs = zip(all_amenities.geometry.y, all_amenities.geometry.x)\n",
    "# for location in locs:\n",
    "#     folium.CircleMarker(location=location, \n",
    "#         color = \"red\",   radius=1).add_to(m)\n",
    "\n",
    "# add bike rentals\n",
    "# locs = zip(bike_rentals.geometry.y, bike_rentals.geometry.x)\n",
    "# for location in locs:\n",
    "#     folium.CircleMarker(location=location, \n",
    "#         color = \"yellow\",   radius=2, fill=True).add_to(m)\n",
    "\n",
    "# m.save(\"chicago_bike_demand.html\")\n",
    "m"
   ]
  },
  {
   "cell_type": "code",
   "execution_count": null,
   "metadata": {},
   "outputs": [],
   "source": []
  },
  {
   "cell_type": "code",
   "execution_count": null,
   "metadata": {},
   "outputs": [],
   "source": []
  },
  {
   "cell_type": "code",
   "execution_count": null,
   "metadata": {},
   "outputs": [],
   "source": [
    "search_place = 'USA'\n",
    "new_bike_rentals = ox.pois_from_place(search_place, amenities=['bicycle_rental'])\n",
    "len(new_bike_rentals)"
   ]
  },
  {
   "cell_type": "code",
   "execution_count": null,
   "metadata": {},
   "outputs": [],
   "source": []
  }
 ],
 "metadata": {
  "kernelspec": {
   "display_name": "Python 3",
   "language": "python",
   "name": "python3"
  },
  "language_info": {
   "codemirror_mode": {
    "name": "ipython",
    "version": 3
   },
   "file_extension": ".py",
   "mimetype": "text/x-python",
   "name": "python",
   "nbconvert_exporter": "python",
   "pygments_lexer": "ipython3",
   "version": "3.7.4"
  }
 },
 "nbformat": 4,
 "nbformat_minor": 2
}
